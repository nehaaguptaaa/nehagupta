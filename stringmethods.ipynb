{
  "nbformat": 4,
  "nbformat_minor": 0,
  "metadata": {
    "colab": {
      "provenance": [],
      "authorship_tag": "ABX9TyPv1yqQ/cnYnvsclzcG6rJz",
      "include_colab_link": true
    },
    "kernelspec": {
      "name": "python3",
      "display_name": "Python 3"
    },
    "language_info": {
      "name": "python"
    }
  },
  "cells": [
    {
      "cell_type": "markdown",
      "metadata": {
        "id": "view-in-github",
        "colab_type": "text"
      },
      "source": [
        "<a href=\"https://colab.research.google.com/github/nehaaguptaaa/nehagupta/blob/main/stringmethods.ipynb\" target=\"_parent\"><img src=\"https://colab.research.google.com/assets/colab-badge.svg\" alt=\"Open In Colab\"/></a>"
      ]
    },
    {
      "cell_type": "code",
      "execution_count": 1,
      "metadata": {
        "colab": {
          "base_uri": "https://localhost:8080/"
        },
        "id": "t5B63A3xTaou",
        "outputId": "2ee0bf03-ba09-486c-e947-1878695cd63d"
      },
      "outputs": [
        {
          "output_type": "stream",
          "name": "stdout",
          "text": [
            "32\n"
          ]
        }
      ],
      "source": [
        "message = 'Python fun is a fun programming fun language'\n",
        "\n",
        "# check the index of 'fun'\n",
        "print(message.rfind('fun'))\n",
        "\n",
        "# Output: 12\n"
      ]
    },
    {
      "cell_type": "code",
      "source": [
        "title = '         Python     test          '\n",
        "\n",
        "# remove trailing whitespace from title\n",
        "print(title)\n",
        "result = title.strip() # strip blanckspace from both sides\n",
        "result1 = title.lstrip()\n",
        "result2 = title.rstrip()\n",
        "print(\"only strip func\",result)\n",
        "print(\"only lstrip func\",result1)\n",
        "print(\"only rstrip func\",result2)\n",
        "\n",
        "# Output: Python Programming"
      ],
      "metadata": {
        "colab": {
          "base_uri": "https://localhost:8080/"
        },
        "id": "BXG9vB7rT9fH",
        "outputId": "215b55f7-1e86-49eb-a4f4-db759d48db07"
      },
      "execution_count": 2,
      "outputs": [
        {
          "output_type": "stream",
          "name": "stdout",
          "text": [
            "         Python     test          \n",
            "only strip func Python     test\n",
            "only lstrip func Python     test          \n",
            "only rstrip func          Python     test\n"
          ]
        }
      ]
    },
    {
      "cell_type": "code",
      "source": [
        "text = '      Python     is     fun        '\n",
        "\n",
        "# split the text from space\n",
        "print(text.split())\n",
        "\n",
        "# Output: ['Python', 'is', 'fun']"
      ],
      "metadata": {
        "colab": {
          "base_uri": "https://localhost:8080/"
        },
        "id": "TPElwo2qUPGW",
        "outputId": "258f8517-020b-4bd5-f1b2-8015700008b2"
      },
      "execution_count": 3,
      "outputs": [
        {
          "output_type": "stream",
          "name": "stdout",
          "text": [
            "['Python', 'is', 'fun']\n"
          ]
        }
      ]
    },
    {
      "cell_type": "code",
      "source": [
        "name=input(\"enter five names separated by spaces: \")\n",
        "sname=name.split()\n",
        "sorted=sorted(sname)\n",
        "print(\"names:\",sorted)"
      ],
      "metadata": {
        "id": "0aJ-Fr_gUSh3"
      },
      "execution_count": null,
      "outputs": []
    },
    {
      "cell_type": "code",
      "source": [
        "a = \"HELLO WORLD\"\n",
        "#a = a.upper();\n",
        "#a = a.lower();\n",
        "print(\"hello\" not in a) # True\n",
        "#print('at' not in 'battle') # False\n",
        "\n"
      ],
      "metadata": {
        "id": "IzgmUTh2UgBm"
      },
      "execution_count": null,
      "outputs": []
    },
    {
      "cell_type": "code",
      "source": [
        "string = \"Python is fun\"\n",
        "\n",
        "# 'is' separator is found\n",
        "print(string.partition('is '))\n",
        "\n",
        "# 'not' separator is not found\n",
        "print(string.partition('not '))\n",
        "\n",
        "string = \"Python is fun, isn't it\"\n",
        "\n",
        "# splits at first occurence of 'is'\n",
        "print(string.partition('is'))\n"
      ],
      "metadata": {
        "id": "XEYoEuFSUw4t"
      },
      "execution_count": null,
      "outputs": []
    }
  ]
}