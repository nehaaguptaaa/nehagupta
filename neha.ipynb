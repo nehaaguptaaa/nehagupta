{
  "nbformat": 4,
  "nbformat_minor": 0,
  "metadata": {
    "colab": {
      "provenance": [],
      "authorship_tag": "ABX9TyPE8JbI9lBX91RBIfjwe2Gq",
      "include_colab_link": true
    },
    "kernelspec": {
      "name": "python3",
      "display_name": "Python 3"
    },
    "language_info": {
      "name": "python"
    }
  },
  "cells": [
    {
      "cell_type": "markdown",
      "metadata": {
        "id": "view-in-github",
        "colab_type": "text"
      },
      "source": [
        "<a href=\"https://colab.research.google.com/github/nehaaguptaaa/nehagupta/blob/main/neha.ipynb\" target=\"_parent\"><img src=\"https://colab.research.google.com/assets/colab-badge.svg\" alt=\"Open In Colab\"/></a>"
      ]
    },
    {
      "cell_type": "code",
      "execution_count": 2,
      "metadata": {
        "colab": {
          "base_uri": "https://localhost:8080/"
        },
        "id": "ume8mymdCX9W",
        "outputId": "59e3285d-5cfe-4d71-d8a4-948b00cee30b"
      },
      "outputs": [
        {
          "output_type": "stream",
          "name": "stdout",
          "text": [
            "password sholud be 8 cha long...12345678\n",
            "enter ur username...tirup\n",
            "login success\n"
          ]
        }
      ],
      "source": [
        "username = \"tirup\"\n",
        "passwd = \"12345678\"\n",
        "\n",
        "def login():\n",
        "    password = input(\"password sholud be 8 cha long...\")\n",
        "    a = len(password)\n",
        "    if a >= 8:\n",
        "        uname = input(\"enter ur username...\")\n",
        "        if (uname == username and passwd == password):\n",
        "            print(\"login success\")\n",
        "        else:\n",
        "            print(\"inalid\")\n",
        "    else:\n",
        "        print(\"invalid password length..\")\n",
        "\n",
        "\n",
        "login()\n",
        ""
      ]
    },
    {
      "cell_type": "code",
      "source": [],
      "metadata": {
        "id": "xz3liJ2xJXmi"
      },
      "execution_count": null,
      "outputs": []
    }
  ]
}